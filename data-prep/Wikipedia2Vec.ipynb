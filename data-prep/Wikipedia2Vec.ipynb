{
  "nbformat": 4,
  "nbformat_minor": 0,
  "metadata": {
    "colab": {
      "name": "Wikipedia2Vec.ipynb",
      "provenance": []
    },
    "kernelspec": {
      "name": "python3",
      "display_name": "Python 3"
    }
  },
  "cells": [
    {
      "cell_type": "code",
      "metadata": {
        "id": "npYRo_7LiwmD",
        "colab_type": "code",
        "colab": {}
      },
      "source": [
        "!pip install wikipedia2vec"
      ],
      "execution_count": null,
      "outputs": []
    },
    {
      "cell_type": "code",
      "metadata": {
        "id": "ZJ2_LiUOsvMP",
        "colab_type": "code",
        "colab": {}
      },
      "source": [
        "# File \"enwiki_20180420_100d.pkl\" is available in the Wikipedia2Vec website\n",
        "from wikipedia2vec import Wikipedia2Vec\n",
        "wiki2vec = Wikipedia2Vec.load(\"enwiki_20180420_100d.pkl\")"
      ],
      "execution_count": null,
      "outputs": []
    },
    {
      "cell_type": "code",
      "metadata": {
        "id": "MXg7ScEs8ARR",
        "colab_type": "code",
        "colab": {}
      },
      "source": [
        "import pandas as pd\n",
        "dataset = 2\n",
        "\n",
        "# Source: https://www.kaggle.com/jessicali9530/kuc-hackathon-winter-2018\n",
        "if dataset == 1:\n",
        "  df = pd.read_csv(\"drugsComTest_raw.csv\")\n",
        "# Source: https://www.kaggle.com/jrobischon/wikipedia-movie-plots\n",
        "elif dataset == 2:\n",
        "  df = pd.read_csv(\"wiki_movie_plots_deduped.csv\")\n",
        "\n",
        "\n",
        "df"
      ],
      "execution_count": null,
      "outputs": []
    },
    {
      "cell_type": "code",
      "metadata": {
        "id": "Hj1DR4R9KepX",
        "colab_type": "code",
        "colab": {}
      },
      "source": [
        "if dataset == 1:\n",
        "  category_dict = {\"Insomnia\":0,\"ADHD\":1,\"Obesity\":2,\"Weight Loss\":3,\"Acne\":4,\"Depression\":5,\"Bipolar Disorde\":6,\"Anxiety\":7,\"Birth Control\":8,\"Pain\":9}\n",
        "  df[\"Label\"] = df[\"condition\"].map(category_dict)\n",
        "elif dataset == 2:  \n",
        "  for index,row in df.iterrows():\n",
        "    row['Director'] = row['Director'].split(\",\")[0]\n",
        "# elif dataset == 3:\n",
        "#   df = df.loc[:,[\"TITLE\",\"PUBLISHER\",\"CATEGORY\"]]\n",
        "#   category_dict = {\"e\":0,\"t\":1,\"b\":2,\"m\":3}\n",
        "#   df.columns = [\"Text\",\"Publisher\",\"Category\"]\n",
        "#   df[\"Label\"] = df[\"Category\"].map(category_dict)\n",
        "df"
      ],
      "execution_count": null,
      "outputs": []
    },
    {
      "cell_type": "code",
      "metadata": {
        "id": "uGdQB9ATKso0",
        "colab_type": "code",
        "colab": {}
      },
      "source": [
        "df"
      ],
      "execution_count": null,
      "outputs": []
    },
    {
      "cell_type": "code",
      "metadata": {
        "colab_type": "code",
        "id": "ULAjiH8Rg49h",
        "colab": {}
      },
      "source": [
        "import numpy as np\n",
        "\n",
        "if dataset == 1:\n",
        "  drug_list = df['drugName']\n",
        "  drug_set = set(drug_list)\n",
        "  drug_dict = {}\n",
        "  for drug in drug_set:\n",
        "    try:\n",
        "      drug_dict[drug] = np.array(wiki2vec.get_entity_vector(drug))\n",
        "    except KeyError:\n",
        "      pass\n",
        "elif dataset == 2:\n",
        "  director_list = df['Director']\n",
        "  director_set = set(director_list)\n",
        "  director_dict = {}\n",
        "  for director in director_set:\n",
        "    try:\n",
        "      director_dict[director] = np.array(wiki2vec.get_entity_vector(director))\n",
        "    except KeyError:\n",
        "      print(director)\n",
        "      pass\n",
        "# elif dataset == 3:\n",
        "#   publisher_list = df['Publisher']\n",
        "#   publisher_set = set(publisher_list)\n",
        "#   publisher_dict = {}\n",
        "#   for publisher in publisher_set:\n",
        "#     try:\n",
        "#       publisher_dict[publisher] = np.array(wiki2vec.get_entity_vector(publisher))\n",
        "#     except KeyError:\n",
        "#       print(publisher)\n",
        "\n",
        "\n"
      ],
      "execution_count": null,
      "outputs": []
    },
    {
      "cell_type": "code",
      "metadata": {
        "id": "hIEuCLzKht4t",
        "colab_type": "code",
        "colab": {}
      },
      "source": [
        "import pickle\n",
        "\n",
        "if dataset == 1:\n",
        "  with open('drug.pickle', 'wb') as handle:\n",
        "      pickle.dump(drug_dict, handle, protocol=pickle.HIGHEST_PROTOCOL)\n",
        "elif dataset == 2:\n",
        "  with open('director.pickle', 'wb') as handle:\n",
        "      pickle.dump(director_dict, handle, protocol=pickle.HIGHEST_PROTOCOL)\n",
        "# elif dataset == 3:\n",
        "#   with open('publisher.pickle', 'wb') as handle:\n",
        "#       pickle.dump(publisher_dict, handle, protocol=pickle.HIGHEST_PROTOCOL)"
      ],
      "execution_count": null,
      "outputs": []
    }
  ]
}